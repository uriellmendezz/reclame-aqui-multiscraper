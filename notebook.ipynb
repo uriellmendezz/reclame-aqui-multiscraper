{
 "cells": [
  {
   "cell_type": "code",
   "execution_count": 1,
   "metadata": {},
   "outputs": [],
   "source": [
    "import pandas as pd\n",
    "from bs4 import BeautifulSoup\n",
    "import requests\n",
    "\n",
    "import sqlite3"
   ]
  },
  {
   "cell_type": "code",
   "execution_count": 6,
   "metadata": {},
   "outputs": [],
   "source": [
    "df = pd.read_csv('all_companies.csv')\n",
    "df['reclameAquiCompanyLink'] = \"https://www.reclameaqui.com.br/empresa/\" + df.companyShortname + '/'\n",
    "df.to_csv('all_companies.csv', index=False)"
   ]
  },
  {
   "cell_type": "code",
   "execution_count": 2,
   "metadata": {},
   "outputs": [],
   "source": [
    "headers = {\n",
    "    \"cookie\": \"_abck=5A01CF80A66FF3E8AAFDB6F75256BBEB~-1~YAAQRnoqyB8QvoiOAQAAPGtFswt5sFQ7vGwah8yFr7MkaZ3%2FTdox5HCWsNMfemJrjtEWpWm1ZRtfZd%2FGBE6mnHtEPkJmfdYb6%2Bl6DNInaoL2Uy7hEr0aloDlXltjxw%2B%2FBa3DzNQ0%2FEzRCsDGwTPV10yZC4C4IbrdoHI05cw6VIyBk9KSeHSSPnJmVzQL7zT8GfVr9kl8kiwLkDdTNQaagusZl0ImTATDohvLFkuGIkjvl5auTViHN6HSY46on7DPYDknvDlPk5Re9ImluDyk0cwi4iDdxgx2P4UACd3ul1ehEHyXwRGuAHqLM1sI6VEEQ9qTLCADh2Vs0a1AHx3uWycSw7hhrA2d8LPx7neMnRbusr2RGDK7H9N2npTlDvtFV5Gmvg%3D%3D~-1~-1~-1; ak_bmsc=61DBA354026E7311E054A0E9DB1CFF2D~000000000000000000000000000000~YAAQRnoqyCAQvoiOAQAAPGtFsxcGDvCH7uUWik9wUo6Vo6Wzu22o%2BasoJV3zoKh1%2FESfZH53oiZCibwol6d%2F%2F%2BVxUcBmFGSbDSgTqKSk4QpMA0W2WnQ4T2JQ6H6%2BPxYmjGzf8Jo%2Bu11wY%2FWKOklnPvfm%2Bg3gd9spiRmlpOsO4WkGkXmCZuDjm%2BurGdCROb51erRwgYW1Chgbw0BHVOAVtsXNm0BWNM5yGncrlzuw%2F%2FUhxveoacfxCLJfYE45HUk0qZ48RcAlOlAoRBY841xxHafh3xCo7iT5THEIax6342BVluzpcpy%2B3S5g9DcLa1s3kUQbc9VojON%2BfXfxbrKbQQ1CwwSVd1fnvL4%2FNOrDWA%2FO2AsSAgGno5emFQWal4h7vSP3By5DL6gK; bm_sz=930F1D6F3166EC0F7021C19BB03FB956~YAAQRnoqyCEQvoiOAQAAPGtFsxdNdb7INM9vaOvhvT5aJXuV7d38YjyKmoOX0tMmAHWlvso%2BCIfnVbSUEFTopl3XjYQhjaUQ43dTm6FHnr7NHTnemFehm7BTLUMJ3gedj66Bw7qGbRS9491E9Z%2FjkHxB3WEq890vM2nCxVlvnIFcP0lIikUsq8p7QrBBKcKV41xYid1peADbcyuioA5fqWQseBLXiNQk5GcHjljZUCiuFU3gbToWjYXi8Gk5uerV3pQyIB5pPuGX21mczhB%2Fl3GPuDwpZnQszXO5CvNLS1dvC8Lyl3ZHB1tnE0ZKuTFGXRbNyriuNIBDMaUpjx7Q3gS%2BOzUApymay2%2FHGO85S%2Fzi6UqfnegZ~3425335~3621429; bm_sv=0B808E5D1D4066CEFC07C45389DF2AE3~YAAQRnoqyIgQvoiOAQAAJUNgsxcRMIlaXl%2BfCcmYbVZoCZ64lmDDVVsQhqtECWJCZS%2B9%2FKX2D8nXlIVr7UrWwKZfxjJd%2FFwiNWJ8avjMGjRE6VcmrciiQkqkkb8VAdG2GUofFT1UwhjZuVSwL%2Ffm43KgF2dEMoKb2dL4uk6%2FTNg2eZNFBz0NACXSDwBO6E6BwNcQHOXQencl4nvnjQCfnhFjECqhu4qS4XrNi9HATgkrseAAJlJxy6qzsCI7%2Byd6rkCjPeBy6go%3D~1\",\n",
    "    \"Accept\": \"application/json\",\n",
    "    \"Accept-Language\": \"es-419,es;q=0.7\",\n",
    "    \"Connection\": \"keep-alive\",\n",
    "    \"Origin\": \"https://www.reclameaqui.com.br\",\n",
    "    \"Referer\": \"https://www.reclameaqui.com.br/\",\n",
    "    \"Sec-Fetch-Dest\": \"empty\",\n",
    "    \"Sec-Fetch-Mode\": \"cors\",\n",
    "    \"Sec-Fetch-Site\": \"same-site\",\n",
    "    \"Sec-GPC\": \"1\",\n",
    "    \"User-Agent\": \"Mozilla/5.0 (Windows NT 10.0; Win64; x64) AppleWebKit/537.36 (KHTML, like Gecko) Chrome/123.0.0.0 Safari/537.36\",\n",
    "    \"^sec-ch-ua\": \"^\\^Brave^^;v=^\\^123^^, ^\\^Not:A-Brand^^;v=^\\^8^^, ^\\^Chromium^^;v=^\\^123^^^\",\n",
    "    \"sec-ch-ua-mobile\": \"?0\",\n",
    "    \"^sec-ch-ua-platform\": \"^\\^Windows^^^\"}\n",
    " \n",
    "url = \"https://www.reclameaqui.com.br/empresa/caixa-economica-federal/\"\n",
    "response = requests.get(url, headers=headers)"
   ]
  },
  {
   "cell_type": "code",
   "execution_count": 9,
   "metadata": {},
   "outputs": [],
   "source": [
    "conn = sqlite3.connect('database.db')\n",
    "cursor = conn.cursor()\n",
    "company_shortname = 'nubnk'\n",
    "cursor.execute('SELECT id FROM CompaniesIds WHERE shortName = ?;', (company_shortname,))\n",
    "\n",
    "\n",
    "data = cursor.fetchone()"
   ]
  },
  {
   "cell_type": "code",
   "execution_count": 17,
   "metadata": {},
   "outputs": [],
   "source": [
    "cursor.execute('SELECT shortName FROM CompaniesIds')\n",
    "data = cursor.fetchall()"
   ]
  },
  {
   "cell_type": "code",
   "execution_count": 24,
   "metadata": {},
   "outputs": [
    {
     "data": {
      "text/plain": [
       "False"
      ]
     },
     "execution_count": 24,
     "metadata": {},
     "output_type": "execute_result"
    }
   ],
   "source": [
    "(\"nubank\") in data"
   ]
  },
  {
   "cell_type": "code",
   "execution_count": 5,
   "metadata": {},
   "outputs": [],
   "source": [
    "cursor.close()"
   ]
  }
 ],
 "metadata": {
  "kernelspec": {
   "display_name": "env",
   "language": "python",
   "name": "python3"
  },
  "language_info": {
   "codemirror_mode": {
    "name": "ipython",
    "version": 3
   },
   "file_extension": ".py",
   "mimetype": "text/x-python",
   "name": "python",
   "nbconvert_exporter": "python",
   "pygments_lexer": "ipython3",
   "version": "3.10.11"
  }
 },
 "nbformat": 4,
 "nbformat_minor": 2
}
