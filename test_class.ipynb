{
 "cells": [
  {
   "cell_type": "code",
   "execution_count": 1,
   "metadata": {},
   "outputs": [],
   "source": [
    "from driver import ScraperReclameAqui\n",
    "import time\n",
    "import datetime\n",
    "import pandas as pd\n",
    "import constants\n",
    "from bs4 import BeautifulSoup\n",
    "\n",
    "from selenium import webdriver\n",
    "from selenium.webdriver.common.by import By\n",
    "from selenium.webdriver.support.ui import WebDriverWait\n",
    "from selenium.webdriver.support import expected_conditions as EC\n",
    "from selenium.webdriver.common.keys import Keys\n",
    "from selenium.webdriver.chrome.service import Service\n",
    "from selenium.common.exceptions import NoSuchElementException, TimeoutException, ElementClickInterceptedException, StaleElementReferenceException\n",
    "from concurrent.futures import ThreadPoolExecutor"
   ]
  },
  {
   "cell_type": "code",
   "execution_count": 2,
   "metadata": {},
   "outputs": [],
   "source": [
    "scraper = ScraperReclameAqui(constants.driver_path, constants.chrome_path)\n",
    "scraper.Initialize_WebDriver()"
   ]
  },
  {
   "cell_type": "code",
   "execution_count": 3,
   "metadata": {},
   "outputs": [],
   "source": [
    "link_sample = \"https://www.reclameaqui.com.br/empresa/consorcio-roma/\""
   ]
  },
  {
   "cell_type": "code",
   "execution_count": 4,
   "metadata": {},
   "outputs": [
    {
     "data": {
      "text/plain": [
       "({'claim_title': ['CRÉDITO NÃO APROVADO HÁ MESES'],\n",
       "  'claim_text': ['a empresa contemplou minha carta e não aprovou meu crédito, visto que à 5 meses venho pagando parcelas de mais de 600 reais, não tenho avalista, mas pago as parcelas todos os meses, estou com o nome limpo e iria até fazer antecipação de parcelas. eles não concordam em devolver todo o dinheiro, visto que já investi sem retorno algum. vou atrás dos meus direitos, caso não resolvam.'],\n",
       "  'claim_status': ['Não respondida'],\n",
       "  'claim_longevity': ['Há 5 horas']},\n",
       " {'longevity': ' Há 2 anos no RA',\n",
       "  'views': ' + 114 mil visualizações',\n",
       "  'temporal': 'Nos últimos 12 meses',\n",
       "  'reputation': 'O consumidor avaliou o atendimento dessa empresa como BOM. A nota média nos últimos 6 meses é 7.5/10.'},\n",
       " None)"
      ]
     },
     "execution_count": 4,
     "metadata": {},
     "output_type": "execute_result"
    }
   ],
   "source": [
    "data = scraper.Get_Claims(link_sample)"
   ]
  },
  {
   "cell_type": "code",
   "execution_count": 1,
   "metadata": {},
   "outputs": [
    {
     "data": {
      "text/plain": [
       "['https:', '', 'www.reclameaqui.com.br', 'empresa', 'consorcio-roma', '']"
      ]
     },
     "execution_count": 1,
     "metadata": {},
     "output_type": "execute_result"
    }
   ],
   "source": [
    "\"https://www.reclameaqui.com.br/empresa/consorcio-roma/\".split('/')"
   ]
  }
 ],
 "metadata": {
  "kernelspec": {
   "display_name": "env",
   "language": "python",
   "name": "python3"
  },
  "language_info": {
   "codemirror_mode": {
    "name": "ipython",
    "version": 3
   },
   "file_extension": ".py",
   "mimetype": "text/x-python",
   "name": "python",
   "nbconvert_exporter": "python",
   "pygments_lexer": "ipython3",
   "version": "3.10.11"
  }
 },
 "nbformat": 4,
 "nbformat_minor": 2
}
