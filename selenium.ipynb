{
 "cells": [
  {
   "cell_type": "code",
   "execution_count": 32,
   "metadata": {},
   "outputs": [],
   "source": [
    "from selenium import webdriver\n",
    "from selenium.webdriver.common.by import By\n",
    "from selenium.webdriver.support.ui import WebDriverWait\n",
    "from selenium.webdriver.support import expected_conditions as EC\n",
    "from selenium.webdriver.common.keys import Keys\n",
    "from selenium.webdriver.chrome.service import Service\n",
    "from selenium.common.exceptions import NoSuchElementException, TimeoutException\n",
    "\n",
    "import os\n",
    "import constants\n",
    "import pandas as pd"
   ]
  },
  {
   "cell_type": "code",
   "execution_count": 33,
   "metadata": {},
   "outputs": [],
   "source": [
    "chromedriver_path = constants.chromedriver_exe_path\n",
    "service = Service(chromedriver_path)\n",
    "options = webdriver.ChromeOptions()\n",
    "options.add_argument('start-maximized')\n",
    "options.binary_location = constants.chrome_exe_path\n",
    "driver = webdriver.Chrome(service=service, options=options)"
   ]
  },
  {
   "cell_type": "code",
   "execution_count": 55,
   "metadata": {},
   "outputs": [],
   "source": [
    "cat = pd.read_csv('categorias.csv')\n",
    "sample = cat.iloc[0]"
   ]
  },
  {
   "cell_type": "code",
   "execution_count": 56,
   "metadata": {},
   "outputs": [],
   "source": [
    "driver.get(sample.category_link)"
   ]
  },
  {
   "cell_type": "code",
   "execution_count": 67,
   "metadata": {},
   "outputs": [
    {
     "data": {
      "text/plain": [
       "['https://www.reclameaqui.com.br/empresa/nubank/',\n",
       " 'https://www.reclameaqui.com.br/empresa/pagseguro/',\n",
       " 'https://www.reclameaqui.com.br/empresa/ton-solucoes-de-pagamento/',\n",
       " 'https://www.reclameaqui.com.br/empresa/picpay/',\n",
       " 'https://www.reclameaqui.com.br/empresa/efi/',\n",
       " 'https://www.reclameaqui.com.br/empresa/banco-bs2/',\n",
       " 'https://www.reclameaqui.com.br/empresa/conta-digital-motorola/',\n",
       " 'https://www.reclameaqui.com.br/empresa/mei-facil/',\n",
       " 'https://www.reclameaqui.com.br/empresa/z1/',\n",
       " 'https://www.reclameaqui.com.br/empresa/banco-neon/']"
      ]
     },
     "execution_count": 67,
     "metadata": {},
     "output_type": "execute_result"
    }
   ],
   "source": [
    "[e.find_element(By.CLASS_NAME, 'go805020176').get_attribute('href') for e in driver.find_elements(By.XPATH, '//div[@class=\"go2321486396\"]')]"
   ]
  }
 ],
 "metadata": {
  "kernelspec": {
   "display_name": "env",
   "language": "python",
   "name": "python3"
  },
  "language_info": {
   "codemirror_mode": {
    "name": "ipython",
    "version": 3
   },
   "file_extension": ".py",
   "mimetype": "text/x-python",
   "name": "python",
   "nbconvert_exporter": "python",
   "pygments_lexer": "ipython3",
   "version": "3.10.11"
  }
 },
 "nbformat": 4,
 "nbformat_minor": 2
}
